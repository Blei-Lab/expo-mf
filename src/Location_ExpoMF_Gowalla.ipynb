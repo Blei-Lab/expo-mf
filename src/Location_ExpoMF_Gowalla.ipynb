{
 "cells": [
  {
   "cell_type": "markdown",
   "metadata": {},
   "source": [
    "# Fit Exposure MF with exposure covariantes (Location ExpoMF) to the Gowalla dataset"
   ]
  },
  {
   "cell_type": "code",
   "execution_count": 1,
   "metadata": {
    "collapsed": false
   },
   "outputs": [],
   "source": [
    "import glob\n",
    "import os\n",
    "# if you are using OPENBLAS, you might want to turn this option on. Otherwise, joblib might get stuck\n",
    "# os.environ['OPENBLAS_NUM_THREADS'] = '1'\n",
    "\n",
    "import numpy as np\n",
    "import matplotlib\n",
    "matplotlib.use('Agg')\n",
    "import matplotlib.pyplot as plt\n",
    "%matplotlib inline\n",
    "import scipy.sparse\n",
    "import pandas as pd"
   ]
  },
  {
   "cell_type": "code",
   "execution_count": 2,
   "metadata": {
    "collapsed": false
   },
   "outputs": [],
   "source": [
    "import expomf_cov\n",
    "import rec_eval"
   ]
  },
  {
   "cell_type": "markdown",
   "metadata": {},
   "source": [
    "Change this to wherever you saved the processed data from [processGowalla.ipynb](processGowalla.ipynb)"
   ]
  },
  {
   "cell_type": "code",
   "execution_count": 3,
   "metadata": {
    "collapsed": true
   },
   "outputs": [],
   "source": [
    "DATA_ROOT = '/home/waldorf/dawen.liang/gowalla_pro/'"
   ]
  },
  {
   "cell_type": "code",
   "execution_count": 4,
   "metadata": {
    "collapsed": false
   },
   "outputs": [],
   "source": [
    "unique_uid = list()\n",
    "with open(os.path.join(DATA_ROOT, 'unique_uid.txt'), 'r') as f:\n",
    "    for line in f:\n",
    "        unique_uid.append(line.strip())\n",
    "    \n",
    "unique_sid = list()\n",
    "with open(os.path.join(DATA_ROOT, 'unique_sid.txt'), 'r') as f:\n",
    "    for line in f:\n",
    "        unique_sid.append(line.strip())"
   ]
  },
  {
   "cell_type": "code",
   "execution_count": 5,
   "metadata": {
    "collapsed": false
   },
   "outputs": [],
   "source": [
    "n_songs = len(unique_sid)\n",
    "n_users = len(unique_uid)"
   ]
  },
  {
   "cell_type": "markdown",
   "metadata": {},
   "source": [
    "### Load the data and train the model"
   ]
  },
  {
   "cell_type": "code",
   "execution_count": 6,
   "metadata": {
    "collapsed": false
   },
   "outputs": [],
   "source": [
    "def load_data(csv_file, shape=(n_users, n_songs)):\n",
    "    tp = pd.read_csv(csv_file)\n",
    "    rows, cols = np.array(tp['uid'], dtype=np.int32), np.array(tp['sid'], dtype=np.int32)\n",
    "    count = tp['rating']\n",
    "    return scipy.sparse.csr_matrix((count,(rows, cols)), dtype=np.int16, shape=shape), rows, cols"
   ]
  },
  {
   "cell_type": "code",
   "execution_count": 7,
   "metadata": {
    "collapsed": false
   },
   "outputs": [],
   "source": [
    "train_data, rows, cols = load_data(os.path.join(DATA_ROOT, 'train.num.csv'))\n",
    "# binarize the data\n",
    "train_data.data = np.ones_like(train_data.data)"
   ]
  },
  {
   "cell_type": "code",
   "execution_count": 8,
   "metadata": {
    "collapsed": false
   },
   "outputs": [
    {
     "name": "stdout",
     "output_type": "stream",
     "text": [
      "(57629, 47198)\n",
      "(804262,)\n"
     ]
    }
   ],
   "source": [
    "print train_data.shape\n",
    "print train_data.data.shape"
   ]
  },
  {
   "cell_type": "code",
   "execution_count": 9,
   "metadata": {
    "collapsed": false
   },
   "outputs": [],
   "source": [
    "vad_data, rows_vad, cols_vad = load_data(os.path.join(DATA_ROOT, 'vad.num.csv'))\n",
    "# binarize the data\n",
    "vad_data.data = np.ones_like(vad_data.data)"
   ]
  },
  {
   "cell_type": "code",
   "execution_count": 10,
   "metadata": {
    "collapsed": false
   },
   "outputs": [],
   "source": [
    "test_data, rows_test, cols_test = load_data(os.path.join(DATA_ROOT, 'test.num.csv'))\n",
    "# binarize the data\n",
    "test_data.data = np.ones_like(test_data.data)"
   ]
  },
  {
   "cell_type": "markdown",
   "metadata": {},
   "source": [
    "`feat_venue_locs.tsv` contains the location features (part of the [pre-processed data](http://dawenl.github.io/data/gowalla_pro.zip)), which are generated in the following way: \n",
    "- Run GMM (from [scikit.learn](http://scikit-learn.org/)) on all the venue locations.\n",
    "- For each venue, take the expected cluster assignment as location features `pi`."
   ]
  },
  {
   "cell_type": "code",
   "execution_count": 11,
   "metadata": {
    "collapsed": false
   },
   "outputs": [],
   "source": [
    "pi = np.loadtxt(os.path.join(DATA_ROOT, 'feat_venue_locs.tsv'), dtype='float32')"
   ]
  },
  {
   "cell_type": "code",
   "execution_count": 12,
   "metadata": {
    "collapsed": false
   },
   "outputs": [],
   "source": [
    "# sanity check to make sure all the venues has its corresponding feature    \n",
    "for i, s in enumerate(unique_sid):\n",
    "    assert s == \"%d\" % pi[i, 0]"
   ]
  },
  {
   "cell_type": "code",
   "execution_count": 13,
   "metadata": {
    "collapsed": false
   },
   "outputs": [],
   "source": [
    "# the first column is ID, don't need them\n",
    "pi = pi[:, 1:]"
   ]
  },
  {
   "cell_type": "code",
   "execution_count": 15,
   "metadata": {
    "collapsed": false
   },
   "outputs": [],
   "source": [
    "n_components = 100\n",
    "max_iter = 20\n",
    "n_jobs = 20\n",
    "lam = 1e-5\n",
    "# here we use the best performing init_mu from per-item \\mu_i experiment\n",
    "init_mu = 0.01\n",
    "max_epoch = 10\n",
    "\n",
    "save_dir=\"Gowalla_Location_ExpoMF_params_K%d_lam%1.0E_initmu%1.0E_maxepoch%d\" % (n_components, lam, init_mu, max_epoch)\n",
    "\n",
    "coder = expomf_cov.ExpoMF(n_components=n_components, max_iter=max_iter, batch_size=1000, \n",
    "                          batch_sgd=10, max_epoch=max_epoch, init_std=0.01,\n",
    "                          n_jobs=n_jobs, random_state=98765, save_params=True, save_dir=save_dir, \n",
    "                          early_stopping=True, verbose=True, \n",
    "                          lam_y=1., lam_theta=lam, lam_beta=lam, lam_nu=lam, init_mu=init_mu, learning_rate=.5)"
   ]
  },
  {
   "cell_type": "code",
   "execution_count": 16,
   "metadata": {
    "collapsed": false
   },
   "outputs": [
    {
     "name": "stdout",
     "output_type": "stream",
     "text": [
      "ITERATION #0\n",
      "\tUpdating user factors: time=178.12\n",
      "\tUpdating item factors: time=190.42\n",
      "\tUpdating user consideration factors...\n",
      "\t\tEpoch #0: initial validation loss = 3154.786\n",
      "\t\tEpoch #0: validation loss = 3133.727\n",
      "\t\tEpoch #1: initial validation loss = 3129.680\n",
      "\t\tEpoch #1: validation loss = 3129.385\n",
      "\t\tEpoch #2: initial validation loss = 3172.628\n",
      "\t\tEpoch #2: validation loss = 3173.474\n",
      "\t\tEpoch #3: initial validation loss = 3143.275\n",
      "\t\tEpoch #3: validation loss = 3143.484\n",
      "\t\tEpoch #4: initial validation loss = 3158.697\n",
      "\t\tEpoch #4: validation loss = 3159.602\n",
      "\t\tEpoch #5: initial validation loss = 3130.088\n",
      "\t\tEpoch #5: validation loss = 3130.258\n",
      "\t\tEpoch #6: initial validation loss = 3163.065\n",
      "\t\tEpoch #6: validation loss = 3163.948\n",
      "\t\tEpoch #7: initial validation loss = 3221.945\n",
      "\t\tEpoch #7: validation loss = 3222.674\n",
      "\t\tEpoch #8: initial validation loss = 3119.196\n",
      "\t\tEpoch #8: validation loss = 3119.460\n",
      "\t\tEpoch #9: initial validation loss = 3138.604\n",
      "\t\tEpoch #9: validation loss = 3138.755\n",
      "\tUpdating user consideration factors: time=7653.19\n",
      "\tValidation NDCG@k: 0.0301\n",
      "ITERATION #1\n",
      "\tUpdating user factors: time=182.01\n",
      "\tUpdating item factors: time=156.22\n",
      "\tUpdating user consideration factors...\n",
      "\t\tEpoch #0: initial validation loss = 3860.363\n",
      "\t\tEpoch #0: validation loss = 3834.004\n",
      "\t\tEpoch #1: initial validation loss = 3788.326\n",
      "\t\tEpoch #1: validation loss = 3788.219\n",
      "\t\tEpoch #2: initial validation loss = 3783.807\n",
      "\t\tEpoch #2: validation loss = 3783.946\n",
      "\t\tEpoch #3: initial validation loss = 3804.415\n",
      "\t\tEpoch #3: validation loss = 3804.517\n",
      "\t\tEpoch #4: initial validation loss = 3780.067\n",
      "\t\tEpoch #4: validation loss = 3780.079\n",
      "\t\tEpoch #5: initial validation loss = 3846.554\n",
      "\t\tEpoch #5: validation loss = 3847.170\n",
      "\t\tEpoch #6: initial validation loss = 3775.838\n",
      "\t\tEpoch #6: validation loss = 3776.161\n",
      "\t\tEpoch #7: initial validation loss = 3826.873\n",
      "\t\tEpoch #7: validation loss = 3827.148\n",
      "\t\tEpoch #8: initial validation loss = 3806.607\n",
      "\t\tEpoch #8: validation loss = 3806.548\n",
      "\t\tEpoch #9: initial validation loss = 3780.639\n",
      "\t\tEpoch #9: validation loss = 3780.768\n",
      "\tUpdating user consideration factors: time=7975.81\n",
      "\tValidation NDCG@k: 0.0845\n",
      "ITERATION #2\n",
      "\tUpdating user factors: time=183.73\n",
      "\tUpdating item factors: time=160.88\n",
      "\tUpdating user consideration factors...\n",
      "\t\tEpoch #0: initial validation loss = 4603.338\n",
      "\t\tEpoch #0: validation loss = 4576.209\n",
      "\t\tEpoch #1: initial validation loss = 4586.514\n",
      "\t\tEpoch #1: validation loss = 4586.777\n",
      "\t\tEpoch #2: initial validation loss = 4573.730\n",
      "\t\tEpoch #2: validation loss = 4573.795\n",
      "\t\tEpoch #3: initial validation loss = 4560.591\n",
      "\t\tEpoch #3: validation loss = 4560.743\n",
      "\t\tEpoch #4: initial validation loss = 4555.287\n",
      "\t\tEpoch #4: validation loss = 4555.128\n",
      "\t\tEpoch #5: initial validation loss = 4541.676\n",
      "\t\tEpoch #5: validation loss = 4541.635\n",
      "\t\tEpoch #6: initial validation loss = 4645.228\n",
      "\t\tEpoch #6: validation loss = 4645.335\n",
      "\t\tEpoch #7: initial validation loss = 4557.719\n",
      "\t\tEpoch #7: validation loss = 4557.995\n",
      "\t\tEpoch #8: initial validation loss = 4553.940\n",
      "\t\tEpoch #8: validation loss = 4554.181\n",
      "\t\tEpoch #9: initial validation loss = 4535.900\n",
      "\t\tEpoch #9: validation loss = 4535.999\n",
      "\tUpdating user consideration factors: time=7937.84\n",
      "\tValidation NDCG@k: 0.0924\n",
      "ITERATION #3\n",
      "\tUpdating user factors: time=160.01\n",
      "\tUpdating item factors: time=186.43\n",
      "\tUpdating user consideration factors...\n",
      "\t\tEpoch #0: initial validation loss = 5470.817\n",
      "\t\tEpoch #0: validation loss = 5441.984\n",
      "\t\tEpoch #1: initial validation loss = 5454.386\n",
      "\t\tEpoch #1: validation loss = 5454.170\n",
      "\t\tEpoch #2: initial validation loss = 5493.884\n",
      "\t\tEpoch #2: validation loss = 5494.150\n",
      "\t\tEpoch #3: initial validation loss = 5451.011\n",
      "\t\tEpoch #3: validation loss = 5451.135\n",
      "\t\tEpoch #4: initial validation loss = 5470.153\n",
      "\t\tEpoch #4: validation loss = 5470.271\n",
      "\t\tEpoch #5: initial validation loss = 5459.202\n",
      "\t\tEpoch #5: validation loss = 5459.523\n",
      "\t\tEpoch #6: initial validation loss = 5509.305\n",
      "\t\tEpoch #6: validation loss = 5509.488\n",
      "\t\tEpoch #7: initial validation loss = 5475.179\n",
      "\t\tEpoch #7: validation loss = 5475.445\n",
      "\t\tEpoch #8: initial validation loss = 5482.983\n",
      "\t\tEpoch #8: validation loss = 5482.837\n",
      "\t\tEpoch #9: initial validation loss = 5494.159\n",
      "\t\tEpoch #9: validation loss = 5494.225\n",
      "\tUpdating user consideration factors: time=7680.83\n",
      "\tValidation NDCG@k: 0.0949\n",
      "ITERATION #4\n",
      "\tUpdating user factors: time=175.42\n",
      "\tUpdating item factors: time=164.18\n",
      "\tUpdating user consideration factors...\n",
      "\t\tEpoch #0: initial validation loss = 6506.894\n",
      "\t\tEpoch #0: validation loss = 6470.763\n",
      "\t\tEpoch #1: initial validation loss = 6459.655\n",
      "\t\tEpoch #1: validation loss = 6459.755\n",
      "\t\tEpoch #2: initial validation loss = 6477.054\n",
      "\t\tEpoch #2: validation loss = 6477.101\n",
      "\t\tEpoch #3: initial validation loss = 6479.118\n",
      "\t\tEpoch #3: validation loss = 6479.124\n",
      "\t\tEpoch #4: initial validation loss = 6533.415\n",
      "\t\tEpoch #4: validation loss = 6533.217\n",
      "\t\tEpoch #5: initial validation loss = 6467.309\n",
      "\t\tEpoch #5: validation loss = 6467.406\n",
      "\t\tEpoch #6: initial validation loss = 6490.388\n",
      "\t\tEpoch #6: validation loss = 6490.435\n",
      "\t\tEpoch #7: initial validation loss = 6469.849\n",
      "\t\tEpoch #7: validation loss = 6469.922\n",
      "\t\tEpoch #8: initial validation loss = 6551.146\n",
      "\t\tEpoch #8: validation loss = 6551.190\n",
      "\t\tEpoch #9: initial validation loss = 6463.776\n",
      "\t\tEpoch #9: validation loss = 6463.873\n",
      "\tUpdating user consideration factors: time=7736.51\n",
      "\tValidation NDCG@k: 0.0959\n",
      "ITERATION #5\n",
      "\tUpdating user factors: time=157.26\n",
      "\tUpdating item factors: time=165.75\n",
      "\tUpdating user consideration factors...\n",
      "\t\tEpoch #0: initial validation loss = 7672.230\n",
      "\t\tEpoch #0: validation loss = 7628.359\n",
      "\t\tEpoch #1: initial validation loss = 7616.646\n",
      "\t\tEpoch #1: validation loss = 7616.676\n",
      "\t\tEpoch #2: initial validation loss = 7679.058\n",
      "\t\tEpoch #2: validation loss = 7679.083\n",
      "\t\tEpoch #3: initial validation loss = 7656.112\n",
      "\t\tEpoch #3: validation loss = 7656.398\n",
      "\t\tEpoch #4: initial validation loss = 7652.572\n",
      "\t\tEpoch #4: validation loss = 7652.493\n",
      "\t\tEpoch #5: initial validation loss = 7744.950\n",
      "\t\tEpoch #5: validation loss = 7745.014\n",
      "\t\tEpoch #6: initial validation loss = 7652.415\n",
      "\t\tEpoch #6: validation loss = 7652.378\n",
      "\t\tEpoch #7: initial validation loss = 7726.620\n",
      "\t\tEpoch #7: validation loss = 7726.597\n",
      "\t\tEpoch #8: initial validation loss = 7659.457\n",
      "\t\tEpoch #8: validation loss = 7659.554\n",
      "\t\tEpoch #9: initial validation loss = 7680.335\n",
      "\t\tEpoch #9: validation loss = 7680.456\n",
      "\tUpdating user consideration factors: time=7795.65\n",
      "\tValidation NDCG@k: 0.0964\n",
      "ITERATION #6\n",
      "\tUpdating user factors: time=165.60\n",
      "\tUpdating item factors: time=164.97\n",
      "\tUpdating user consideration factors...\n",
      "\t\tEpoch #0: initial validation loss = 9083.521\n",
      "\t\tEpoch #0: validation loss = 9033.204\n",
      "\t\tEpoch #1: initial validation loss = 9006.595\n",
      "\t\tEpoch #1: validation loss = 9006.622\n",
      "\t\tEpoch #2: initial validation loss = 9084.035\n",
      "\t\tEpoch #2: validation loss = 9084.182\n",
      "\t\tEpoch #3: initial validation loss = 8987.997\n",
      "\t\tEpoch #3: validation loss = 8988.022\n",
      "\t\tEpoch #4: initial validation loss = 9074.346\n",
      "\t\tEpoch #4: validation loss = 9074.305\n",
      "\t\tEpoch #5: initial validation loss = 9003.383\n",
      "\t\tEpoch #5: validation loss = 9003.478\n",
      "\t\tEpoch #6: initial validation loss = 9061.818\n",
      "\t\tEpoch #6: validation loss = 9061.753\n",
      "\t\tEpoch #7: initial validation loss = 8983.690\n",
      "\t\tEpoch #7: validation loss = 8983.734\n",
      "\t\tEpoch #8: initial validation loss = 9030.014\n",
      "\t\tEpoch #8: validation loss = 9030.077\n",
      "\t\tEpoch #9: initial validation loss = 9023.638\n",
      "\t\tEpoch #9: validation loss = 9023.628\n",
      "\tUpdating user consideration factors: time=8014.82\n",
      "\tValidation NDCG@k: 0.0959\n"
     ]
    },
    {
     "data": {
      "text/plain": [
       "ExpoMF(batch_sgd=10, batch_size=1000, early_stopping=True, init_std=0.01,\n",
       "    max_epoch=10, max_iter=20, n_components=100, n_jobs=20,\n",
       "    random_state=98765,\n",
       "    save_dir='Gowalla_Location_ExpoMF_params_K100_lam1E-05_initmu1E-02_maxepoch10',\n",
       "    save_params=True, verbose=True)"
      ]
     },
     "execution_count": 16,
     "metadata": {},
     "output_type": "execute_result"
    }
   ],
   "source": [
    "coder.fit(train_data, pi, vad_data=vad_data, batch_users=5000, k=100)"
   ]
  },
  {
   "cell_type": "markdown",
   "metadata": {},
   "source": [
    "It seems that after a few epochs the validation loss will not decrease. However, we empirically found that it is still better to train for more epochs, instead of stop the SGD"
   ]
  },
  {
   "cell_type": "markdown",
   "metadata": {},
   "source": [
    "## Evaluate the performance on heldout testset"
   ]
  },
  {
   "cell_type": "code",
   "execution_count": 17,
   "metadata": {
    "collapsed": false
   },
   "outputs": [],
   "source": [
    "n_params = len(glob.glob(os.path.join(save_dir, '*.npz')))\n",
    "\n",
    "params = np.load(os.path.join(save_dir, 'ExpoMF_cov_K%d_mu%.1e_iter%d.npz' % (n_components, init_mu, n_params - 1)))\n",
    "U, V, nu, alpha = params['U'], params['V'], params['nu'], params['alpha']"
   ]
  },
  {
   "cell_type": "markdown",
   "metadata": {},
   "source": [
    "### Rank by $\\mathbb{E}[y_{ui}] = \\mu_{ui}\\theta_u^\\top\\beta_i$"
   ]
  },
  {
   "cell_type": "code",
   "execution_count": 18,
   "metadata": {
    "collapsed": false
   },
   "outputs": [
    {
     "name": "stdout",
     "output_type": "stream",
     "text": [
      "Test Recall@20: 0.1292\n",
      "Test Recall@50: 0.1992\n",
      "Test NDCG@100: 0.1252\n",
      "Test MAP@100: 0.0478\n"
     ]
    }
   ],
   "source": [
    "mu = {'params': [nu, pi, alpha], 'func': expomf_cov.get_mu}\n",
    "\n",
    "print 'Test Recall@20: %.4f' % rec_eval.recall_at_k(train_data, test_data, U, V, k=20, mu=mu, vad_data=vad_data)\n",
    "print 'Test Recall@50: %.4f' % rec_eval.recall_at_k(train_data, test_data, U, V, k=50, mu=mu, vad_data=vad_data)\n",
    "print 'Test NDCG@100: %.4f' % rec_eval.normalized_dcg_at_k(train_data, test_data, U, V, k=100, mu=mu, vad_data=vad_data)\n",
    "print 'Test MAP@100: %.4f' % rec_eval.map_at_k(train_data, test_data, U, V, k=100, mu=mu, vad_data=vad_data)"
   ]
  },
  {
   "cell_type": "code",
   "execution_count": null,
   "metadata": {
    "collapsed": false
   },
   "outputs": [],
   "source": []
  }
 ],
 "metadata": {
  "kernelspec": {
   "display_name": "Python 2",
   "language": "python",
   "name": "python2"
  },
  "language_info": {
   "codemirror_mode": {
    "name": "ipython",
    "version": 2
   },
   "file_extension": ".py",
   "mimetype": "text/x-python",
   "name": "python",
   "nbconvert_exporter": "python",
   "pygments_lexer": "ipython2",
   "version": "2.7.6"
  }
 },
 "nbformat": 4,
 "nbformat_minor": 0
}
