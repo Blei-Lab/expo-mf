{
 "cells": [
  {
   "cell_type": "markdown",
   "metadata": {},
   "source": [
    "# Fit Exposure MF with hierarchical per-item $\\mu_i$ to the binarized taste profile dataset"
   ]
  },
  {
   "cell_type": "code",
   "execution_count": 1,
   "metadata": {
    "collapsed": false
   },
   "outputs": [],
   "source": [
    "import glob\n",
    "import os\n",
    "# if you are using OPENBLAS, you might want to turn this option on. Otherwise, joblib might get stuck\n",
    "# os.environ['OPENBLAS_NUM_THREADS'] = '1'\n",
    "\n",
    "import numpy as np\n",
    "import matplotlib\n",
    "matplotlib.use('Agg')\n",
    "import matplotlib.pyplot as plt\n",
    "%matplotlib inline\n",
    "import scipy.sparse\n",
    "import pandas as pd\n",
    "\n",
    "import rec_eval"
   ]
  },
  {
   "cell_type": "code",
   "execution_count": 2,
   "metadata": {
    "collapsed": false
   },
   "outputs": [],
   "source": [
    "import expomf"
   ]
  },
  {
   "cell_type": "markdown",
   "metadata": {},
   "source": [
    "Change this to wherever you saved the processed data from [processTasteProfile.ipynb](processTasteProfile.ipynb)"
   ]
  },
  {
   "cell_type": "code",
   "execution_count": 3,
   "metadata": {
    "collapsed": true
   },
   "outputs": [],
   "source": [
    "DATA_ROOT = '/home/waldorf/dawen.liang/data/tasteprofile/'"
   ]
  },
  {
   "cell_type": "code",
   "execution_count": 4,
   "metadata": {
    "collapsed": false
   },
   "outputs": [],
   "source": [
    "unique_uid = list()\n",
    "with open(os.path.join(DATA_ROOT, 'unique_uid_sub.txt'), 'r') as f:\n",
    "    for line in f:\n",
    "        unique_uid.append(line.strip())\n",
    "    \n",
    "unique_sid = list()\n",
    "with open(os.path.join(DATA_ROOT, 'unique_sid_sub.txt'), 'r') as f:\n",
    "    for line in f:\n",
    "        unique_sid.append(line.strip())"
   ]
  },
  {
   "cell_type": "code",
   "execution_count": 5,
   "metadata": {
    "collapsed": false
   },
   "outputs": [],
   "source": [
    "n_songs = len(unique_sid)\n",
    "n_users = len(unique_uid)"
   ]
  },
  {
   "cell_type": "markdown",
   "metadata": {},
   "source": [
    "## Load the data and train the model"
   ]
  },
  {
   "cell_type": "code",
   "execution_count": 6,
   "metadata": {
    "collapsed": false
   },
   "outputs": [],
   "source": [
    "def load_data(csv_file, shape=(n_users, n_songs)):\n",
    "    tp = pd.read_csv(csv_file)\n",
    "    rows, cols = np.array(tp['uid'], dtype=np.int32), np.array(tp['sid'], dtype=np.int32)\n",
    "    count = tp['count']\n",
    "    return scipy.sparse.csr_matrix((count,(rows, cols)), dtype=np.int16, shape=shape), rows, cols"
   ]
  },
  {
   "cell_type": "code",
   "execution_count": 7,
   "metadata": {
    "collapsed": false
   },
   "outputs": [],
   "source": [
    "train_data, rows, cols = load_data(os.path.join(DATA_ROOT, 'train.num.sub.csv'))\n",
    "# binarize the data\n",
    "train_data.data = np.ones_like(train_data.data)"
   ]
  },
  {
   "cell_type": "code",
   "execution_count": 8,
   "metadata": {
    "collapsed": false
   },
   "outputs": [
    {
     "name": "stdout",
     "output_type": "stream",
     "text": [
      "(211830, 22781)\n",
      "(10054203,)\n"
     ]
    }
   ],
   "source": [
    "print train_data.shape\n",
    "print train_data.data.shape"
   ]
  },
  {
   "cell_type": "code",
   "execution_count": 9,
   "metadata": {
    "collapsed": false
   },
   "outputs": [],
   "source": [
    "vad_data, rows_vad, cols_vad = load_data(os.path.join(DATA_ROOT, 'vad.num.sub.csv'))\n",
    "# binarize the data\n",
    "vad_data.data = np.ones_like(vad_data.data)"
   ]
  },
  {
   "cell_type": "code",
   "execution_count": 10,
   "metadata": {
    "collapsed": false
   },
   "outputs": [],
   "source": [
    "test_data, rows_test, cols_test = load_data(os.path.join(DATA_ROOT, 'test.num.sub.csv'))\n",
    "# binarize the data\n",
    "test_data.data = np.ones_like(test_data.data)"
   ]
  },
  {
   "cell_type": "code",
   "execution_count": 11,
   "metadata": {
    "collapsed": false
   },
   "outputs": [],
   "source": [
    "n_components = 100\n",
    "max_iter = 10\n",
    "n_jobs = 20\n",
    "# grid search on init_mu = {0.1, 0.05, 0.01, 0.005, 0.001} from validation set\n",
    "init_mu = 0.01\n",
    "lam = 1e-5\n",
    "\n",
    "save_dir=\"ExpoMF_TSP_K%d_lam%1.0E_initmu%1.0E\" % (n_components, lam, init_mu)\n",
    "\n",
    "coder = expomf.ExpoMF(n_components=n_components, max_iter=max_iter, batch_size=1000, init_std=0.01, \n",
    "                      n_jobs=n_jobs, random_state=98765, save_params=True, \n",
    "                      save_dir=save_dir, early_stopping=True, verbose=True, \n",
    "                      lam_y=1., lam_theta=lam, lam_beta=lam, a=1., b=1., init_mu=init_mu)"
   ]
  },
  {
   "cell_type": "code",
   "execution_count": 12,
   "metadata": {
    "collapsed": false
   },
   "outputs": [
    {
     "name": "stdout",
     "output_type": "stream",
     "text": [
      "ITERATION #0\n",
      "\tUpdating user factors: time=355.02\n",
      "\tUpdating item factors: time=405.46\n",
      "\tUpdating consideration prior: time=155.65\n",
      "\tValidation NDCG@k: 0.0349\n",
      "ITERATION #1\n",
      "\tUpdating user factors: time=309.13\n",
      "\tUpdating item factors: time=434.29\n",
      "\tUpdating consideration prior: time=150.24\n",
      "\tValidation NDCG@k: 0.1432\n",
      "ITERATION #2\n",
      "\tUpdating user factors: time=390.85\n",
      "\tUpdating item factors: time=400.44\n",
      "\tUpdating consideration prior: time=153.76\n",
      "\tValidation NDCG@k: 0.1706\n",
      "ITERATION #3\n",
      "\tUpdating user factors: time=306.91\n",
      "\tUpdating item factors: time=441.89\n",
      "\tUpdating consideration prior: time=155.24\n",
      "\tValidation NDCG@k: 0.1787\n",
      "ITERATION #4\n",
      "\tUpdating user factors: time=357.90\n",
      "\tUpdating item factors: time=413.77\n",
      "\tUpdating consideration prior: time=153.19\n",
      "\tValidation NDCG@k: 0.1814\n",
      "ITERATION #5\n",
      "\tUpdating user factors: time=354.00\n",
      "\tUpdating item factors: time=445.62\n",
      "\tUpdating consideration prior: time=148.81\n",
      "\tValidation NDCG@k: 0.1822\n",
      "ITERATION #6\n",
      "\tUpdating user factors: time=322.80\n",
      "\tUpdating item factors: time=403.10\n",
      "\tUpdating consideration prior: time=153.14\n",
      "\tValidation NDCG@k: 0.1821\n"
     ]
    },
    {
     "data": {
      "text/plain": [
       "ExpoMF(batch_size=1000, early_stopping=True, init_std=0.01, max_iter=10,\n",
       "    n_components=100, n_jobs=20, random_state=98765,\n",
       "    save_dir='ExpoMF_TSP_K100_lam1E-05_initmu1E-02', save_params=True,\n",
       "    verbose=True)"
      ]
     },
     "execution_count": 12,
     "metadata": {},
     "output_type": "execute_result"
    }
   ],
   "source": [
    "coder.fit(train_data, vad_data=vad_data, batch_users=5000, k=100)"
   ]
  },
  {
   "cell_type": "markdown",
   "metadata": {},
   "source": [
    "## Let's take a look at the learned exposure prior $\\mu_i$"
   ]
  },
  {
   "cell_type": "code",
   "execution_count": 13,
   "metadata": {
    "collapsed": false
   },
   "outputs": [],
   "source": [
    "item_popularity = np.array(train_data.sum(axis=0)).ravel()"
   ]
  },
  {
   "cell_type": "code",
   "execution_count": 14,
   "metadata": {
    "collapsed": false
   },
   "outputs": [
    {
     "data": {
      "image/png": "[encoded data removed]",
      "text/plain": [
       "<matplotlib.figure.Figure at 0x7fcc8196d9d0>"
      ]
     },
     "metadata": {},
     "output_type": "display_data"
    }
   ],
   "source": [
    "plt.figure(figsize=(15, 10))\n",
    "for i in xrange(6):  \n",
    "    params = np.load(os.path.join(save_dir, 'ExpoMF_K%d_mu%.1e_iter%d.npz' % (n_components, init_mu, i)))\n",
    "    mu = params['mu']\n",
    "    plt.subplot(4, 2, i+1)\n",
    "    plt.plot(item_popularity, mu, 'o')\n",
    "pass"
   ]
  },
  {
   "cell_type": "markdown",
   "metadata": {},
   "source": [
    "## Evaluate the performance on heldout testset"
   ]
  },
  {
   "cell_type": "code",
   "execution_count": 15,
   "metadata": {
    "collapsed": false
   },
   "outputs": [],
   "source": [
    "n_params = len(glob.glob(os.path.join(save_dir, '*.npz')))\n",
    "\n",
    "params = np.load(os.path.join(save_dir, 'ExpoMF_K%d_mu%.1e_iter%d.npz' % (n_components, init_mu, n_params - 1)))\n",
    "U, V, mu = params['U'], params['V'], params['mu']"
   ]
  },
  {
   "cell_type": "markdown",
   "metadata": {},
   "source": [
    "### Rank by $\\theta_u^\\top \\beta_i$"
   ]
  },
  {
   "cell_type": "code",
   "execution_count": 16,
   "metadata": {
    "collapsed": false
   },
   "outputs": [
    {
     "name": "stdout",
     "output_type": "stream",
     "text": [
      "Test Recall@20: 0.2011\n",
      "Test Recall@50: 0.2858\n",
      "Test NDCG@100: 0.2630\n",
      "Test MAP@100: 0.1092\n"
     ]
    }
   ],
   "source": [
    "print 'Test Recall@20: %.4f' % rec_eval.recall_at_k(train_data, test_data, U, V, k=20, vad_data=vad_data)\n",
    "print 'Test Recall@50: %.4f' % rec_eval.recall_at_k(train_data, test_data, U, V, k=50, vad_data=vad_data)\n",
    "print 'Test NDCG@100: %.4f' % rec_eval.normalized_dcg_at_k(train_data, test_data, U, V, k=100, vad_data=vad_data)\n",
    "print 'Test MAP@100: %.4f' % rec_eval.map_at_k(train_data, test_data, U, V, k=100, vad_data=vad_data)"
   ]
  },
  {
   "cell_type": "markdown",
   "metadata": {},
   "source": [
    "### Rank by $\\mathbb{E}[y_{ui}] = \\mu_{i} \\theta_u^\\top\\beta_i$"
   ]
  },
  {
   "cell_type": "code",
   "execution_count": 17,
   "metadata": {
    "collapsed": false
   },
   "outputs": [
    {
     "name": "stdout",
     "output_type": "stream",
     "text": [
      "Test Recall@20: 0.1506\n",
      "Test Recall@50: 0.2377\n",
      "Test NDCG@100: 0.2109\n",
      "Test MAP@100: 0.0741\n"
     ]
    }
   ],
   "source": [
    "print 'Test Recall@20: %.4f' % rec_eval.recall_at_k(train_data, test_data, U, V, k=20, mu=mu, vad_data=vad_data)\n",
    "print 'Test Recall@50: %.4f' % rec_eval.recall_at_k(train_data, test_data, U, V, k=50, mu=mu, vad_data=vad_data)\n",
    "print 'Test NDCG@100: %.4f' % rec_eval.normalized_dcg_at_k(train_data, test_data, U, V, k=100, mu=mu, vad_data=vad_data)\n",
    "print 'Test MAP@100: %.4f' % rec_eval.map_at_k(train_data, test_data, U, V, k=100, mu=mu, vad_data=vad_data)"
   ]
  }
 ],
 "metadata": {
  "kernelspec": {
   "display_name": "Python 2",
   "language": "python",
   "name": "python2"
  },
  "language_info": {
   "codemirror_mode": {
    "name": "ipython",
    "version": 2
   },
   "file_extension": ".py",
   "mimetype": "text/x-python",
   "name": "python",
   "nbconvert_exporter": "python",
   "pygments_lexer": "ipython2",
   "version": "2.7.6"
  }
 },
 "nbformat": 4,
 "nbformat_minor": 0
}
