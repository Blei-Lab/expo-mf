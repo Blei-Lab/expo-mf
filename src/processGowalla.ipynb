{
 "cells": [
  {
   "cell_type": "markdown",
   "metadata": {},
   "source": [
    "# Gowalla Dataset"
   ]
  },
  {
   "cell_type": "markdown",
   "metadata": {},
   "source": [
    "[Gowalla dataset](https://snap.stanford.edu/data/loc-gowalla.html) contains user-venue checkins. This is the script that pre-processes the full dataset and splits it into non-overlapping training, validation, test sets. The data is used in the paper: [\"modeling user exposure in recommendation\"](http://arxiv.org/abs/1510.07025)."
   ]
  },
  {
   "cell_type": "code",
   "execution_count": 1,
   "metadata": {
    "collapsed": false
   },
   "outputs": [],
   "source": [
    "import json\n",
    "import os\n",
    "\n",
    "import numpy as np\n",
    "import pandas as pd"
   ]
  },
  {
   "cell_type": "markdown",
   "metadata": {},
   "source": [
    "Change this to wherever you keep the [processed data](http://dawenl.github.io/data/gowalla_pro.zip)"
   ]
  },
  {
   "cell_type": "code",
   "execution_count": 2,
   "metadata": {
    "collapsed": false
   },
   "outputs": [],
   "source": [
    "DATA_DIR = '/home/waldorf/dawen.liang/gowalla_pro'"
   ]
  },
  {
   "cell_type": "code",
   "execution_count": 3,
   "metadata": {
    "collapsed": false
   },
   "outputs": [],
   "source": [
    "df = pd.read_table(os.path.join(DATA_DIR, 'gwl_checkins.tsv'), header=None, sep='\\t', names=['uid', 'sid', 'rating'])"
   ]
  },
  {
   "cell_type": "code",
   "execution_count": 4,
   "metadata": {
    "collapsed": false
   },
   "outputs": [
    {
     "data": {
      "text/html": [
       "<div style=\"max-height:1000px;max-width:1500px;overflow:auto;\">\n",
       "<table border=\"1\" class=\"dataframe\">\n",
       "  <thead>\n",
       "    <tr style=\"text-align: right;\">\n",
       "      <th></th>\n",
       "      <th>uid</th>\n",
       "      <th>sid</th>\n",
       "      <th>rating</th>\n",
       "    </tr>\n",
       "  </thead>\n",
       "  <tbody>\n",
       "    <tr>\n",
       "      <th>0      </th>\n",
       "      <td>      0</td>\n",
       "      <td>   22847</td>\n",
       "      <td> 1</td>\n",
       "    </tr>\n",
       "    <tr>\n",
       "      <th>1      </th>\n",
       "      <td>      0</td>\n",
       "      <td>  420315</td>\n",
       "      <td> 1</td>\n",
       "    </tr>\n",
       "    <tr>\n",
       "      <th>2      </th>\n",
       "      <td>      0</td>\n",
       "      <td>  316637</td>\n",
       "      <td> 1</td>\n",
       "    </tr>\n",
       "    <tr>\n",
       "      <th>3      </th>\n",
       "      <td>      0</td>\n",
       "      <td>   16516</td>\n",
       "      <td> 1</td>\n",
       "    </tr>\n",
       "    <tr>\n",
       "      <th>4      </th>\n",
       "      <td>      0</td>\n",
       "      <td> 5535878</td>\n",
       "      <td> 1</td>\n",
       "    </tr>\n",
       "    <tr>\n",
       "      <th>5      </th>\n",
       "      <td>      0</td>\n",
       "      <td>   15372</td>\n",
       "      <td> 1</td>\n",
       "    </tr>\n",
       "    <tr>\n",
       "      <th>6      </th>\n",
       "      <td>      0</td>\n",
       "      <td>   21714</td>\n",
       "      <td> 1</td>\n",
       "    </tr>\n",
       "    <tr>\n",
       "      <th>7      </th>\n",
       "      <td>      0</td>\n",
       "      <td>  420315</td>\n",
       "      <td> 1</td>\n",
       "    </tr>\n",
       "    <tr>\n",
       "      <th>8      </th>\n",
       "      <td>      0</td>\n",
       "      <td>  153505</td>\n",
       "      <td> 1</td>\n",
       "    </tr>\n",
       "    <tr>\n",
       "      <th>9      </th>\n",
       "      <td>      0</td>\n",
       "      <td>  420315</td>\n",
       "      <td> 1</td>\n",
       "    </tr>\n",
       "    <tr>\n",
       "      <th>10     </th>\n",
       "      <td>      0</td>\n",
       "      <td>   23261</td>\n",
       "      <td> 1</td>\n",
       "    </tr>\n",
       "    <tr>\n",
       "      <th>11     </th>\n",
       "      <td>      0</td>\n",
       "      <td>   16907</td>\n",
       "      <td> 1</td>\n",
       "    </tr>\n",
       "    <tr>\n",
       "      <th>12     </th>\n",
       "      <td>      0</td>\n",
       "      <td>   12973</td>\n",
       "      <td> 1</td>\n",
       "    </tr>\n",
       "    <tr>\n",
       "      <th>13     </th>\n",
       "      <td>      0</td>\n",
       "      <td>  341255</td>\n",
       "      <td> 1</td>\n",
       "    </tr>\n",
       "    <tr>\n",
       "      <th>14     </th>\n",
       "      <td>      0</td>\n",
       "      <td>  260957</td>\n",
       "      <td> 1</td>\n",
       "    </tr>\n",
       "    <tr>\n",
       "      <th>15     </th>\n",
       "      <td>      0</td>\n",
       "      <td> 1933724</td>\n",
       "      <td> 1</td>\n",
       "    </tr>\n",
       "    <tr>\n",
       "      <th>16     </th>\n",
       "      <td>      0</td>\n",
       "      <td>  105068</td>\n",
       "      <td> 1</td>\n",
       "    </tr>\n",
       "    <tr>\n",
       "      <th>17     </th>\n",
       "      <td>      0</td>\n",
       "      <td>   34817</td>\n",
       "      <td> 1</td>\n",
       "    </tr>\n",
       "    <tr>\n",
       "      <th>18     </th>\n",
       "      <td>      0</td>\n",
       "      <td>   27836</td>\n",
       "      <td> 1</td>\n",
       "    </tr>\n",
       "    <tr>\n",
       "      <th>19     </th>\n",
       "      <td>      0</td>\n",
       "      <td>   15079</td>\n",
       "      <td> 1</td>\n",
       "    </tr>\n",
       "    <tr>\n",
       "      <th>20     </th>\n",
       "      <td>      0</td>\n",
       "      <td>   15079</td>\n",
       "      <td> 1</td>\n",
       "    </tr>\n",
       "    <tr>\n",
       "      <th>21     </th>\n",
       "      <td>      0</td>\n",
       "      <td>   22806</td>\n",
       "      <td> 1</td>\n",
       "    </tr>\n",
       "    <tr>\n",
       "      <th>22     </th>\n",
       "      <td>      0</td>\n",
       "      <td> 1365909</td>\n",
       "      <td> 1</td>\n",
       "    </tr>\n",
       "    <tr>\n",
       "      <th>23     </th>\n",
       "      <td>      0</td>\n",
       "      <td>   11844</td>\n",
       "      <td> 1</td>\n",
       "    </tr>\n",
       "    <tr>\n",
       "      <th>24     </th>\n",
       "      <td>      0</td>\n",
       "      <td>   11742</td>\n",
       "      <td> 1</td>\n",
       "    </tr>\n",
       "    <tr>\n",
       "      <th>25     </th>\n",
       "      <td>      0</td>\n",
       "      <td>   19822</td>\n",
       "      <td> 1</td>\n",
       "    </tr>\n",
       "    <tr>\n",
       "      <th>26     </th>\n",
       "      <td>      0</td>\n",
       "      <td>   15169</td>\n",
       "      <td> 1</td>\n",
       "    </tr>\n",
       "    <tr>\n",
       "      <th>27     </th>\n",
       "      <td>      0</td>\n",
       "      <td>   11794</td>\n",
       "      <td> 1</td>\n",
       "    </tr>\n",
       "    <tr>\n",
       "      <th>28     </th>\n",
       "      <td>      0</td>\n",
       "      <td> 1567837</td>\n",
       "      <td> 1</td>\n",
       "    </tr>\n",
       "    <tr>\n",
       "      <th>29     </th>\n",
       "      <td>      0</td>\n",
       "      <td>   35513</td>\n",
       "      <td> 1</td>\n",
       "    </tr>\n",
       "    <tr>\n",
       "      <th>...</th>\n",
       "      <td>...</td>\n",
       "      <td>...</td>\n",
       "      <td>...</td>\n",
       "    </tr>\n",
       "    <tr>\n",
       "      <th>6120414</th>\n",
       "      <td> 196561</td>\n",
       "      <td> 1109654</td>\n",
       "      <td> 1</td>\n",
       "    </tr>\n",
       "    <tr>\n",
       "      <th>6120415</th>\n",
       "      <td> 196561</td>\n",
       "      <td> 1176867</td>\n",
       "      <td> 1</td>\n",
       "    </tr>\n",
       "    <tr>\n",
       "      <th>6120416</th>\n",
       "      <td> 196561</td>\n",
       "      <td> 2312134</td>\n",
       "      <td> 1</td>\n",
       "    </tr>\n",
       "    <tr>\n",
       "      <th>6120417</th>\n",
       "      <td> 196561</td>\n",
       "      <td>  449112</td>\n",
       "      <td> 1</td>\n",
       "    </tr>\n",
       "    <tr>\n",
       "      <th>6120418</th>\n",
       "      <td> 196561</td>\n",
       "      <td> 2312134</td>\n",
       "      <td> 1</td>\n",
       "    </tr>\n",
       "    <tr>\n",
       "      <th>6120419</th>\n",
       "      <td> 196578</td>\n",
       "      <td> 1341442</td>\n",
       "      <td> 1</td>\n",
       "    </tr>\n",
       "    <tr>\n",
       "      <th>6120420</th>\n",
       "      <td> 196578</td>\n",
       "      <td> 1174322</td>\n",
       "      <td> 1</td>\n",
       "    </tr>\n",
       "    <tr>\n",
       "      <th>6120421</th>\n",
       "      <td> 196578</td>\n",
       "      <td> 1160482</td>\n",
       "      <td> 1</td>\n",
       "    </tr>\n",
       "    <tr>\n",
       "      <th>6120422</th>\n",
       "      <td> 196578</td>\n",
       "      <td>  594064</td>\n",
       "      <td> 1</td>\n",
       "    </tr>\n",
       "    <tr>\n",
       "      <th>6120423</th>\n",
       "      <td> 196578</td>\n",
       "      <td>  627093</td>\n",
       "      <td> 1</td>\n",
       "    </tr>\n",
       "    <tr>\n",
       "      <th>6120424</th>\n",
       "      <td> 196578</td>\n",
       "      <td>  899939</td>\n",
       "      <td> 1</td>\n",
       "    </tr>\n",
       "    <tr>\n",
       "      <th>6120425</th>\n",
       "      <td> 196578</td>\n",
       "      <td>  467635</td>\n",
       "      <td> 1</td>\n",
       "    </tr>\n",
       "    <tr>\n",
       "      <th>6120426</th>\n",
       "      <td> 196578</td>\n",
       "      <td> 1250178</td>\n",
       "      <td> 1</td>\n",
       "    </tr>\n",
       "    <tr>\n",
       "      <th>6120427</th>\n",
       "      <td> 196578</td>\n",
       "      <td>  797460</td>\n",
       "      <td> 1</td>\n",
       "    </tr>\n",
       "    <tr>\n",
       "      <th>6120428</th>\n",
       "      <td> 196578</td>\n",
       "      <td>  496521</td>\n",
       "      <td> 1</td>\n",
       "    </tr>\n",
       "    <tr>\n",
       "      <th>6120429</th>\n",
       "      <td> 196578</td>\n",
       "      <td> 1072999</td>\n",
       "      <td> 1</td>\n",
       "    </tr>\n",
       "    <tr>\n",
       "      <th>6120430</th>\n",
       "      <td> 196578</td>\n",
       "      <td> 1151842</td>\n",
       "      <td> 1</td>\n",
       "    </tr>\n",
       "    <tr>\n",
       "      <th>6120431</th>\n",
       "      <td> 196578</td>\n",
       "      <td> 1151847</td>\n",
       "      <td> 1</td>\n",
       "    </tr>\n",
       "    <tr>\n",
       "      <th>6120432</th>\n",
       "      <td> 196578</td>\n",
       "      <td>  635712</td>\n",
       "      <td> 1</td>\n",
       "    </tr>\n",
       "    <tr>\n",
       "      <th>6120433</th>\n",
       "      <td> 196578</td>\n",
       "      <td>  697962</td>\n",
       "      <td> 1</td>\n",
       "    </tr>\n",
       "    <tr>\n",
       "      <th>6120434</th>\n",
       "      <td> 196578</td>\n",
       "      <td>  594064</td>\n",
       "      <td> 1</td>\n",
       "    </tr>\n",
       "    <tr>\n",
       "      <th>6120435</th>\n",
       "      <td> 196578</td>\n",
       "      <td>  627093</td>\n",
       "      <td> 1</td>\n",
       "    </tr>\n",
       "    <tr>\n",
       "      <th>6120436</th>\n",
       "      <td> 196578</td>\n",
       "      <td>  899939</td>\n",
       "      <td> 1</td>\n",
       "    </tr>\n",
       "    <tr>\n",
       "      <th>6120437</th>\n",
       "      <td> 196578</td>\n",
       "      <td>  964995</td>\n",
       "      <td> 1</td>\n",
       "    </tr>\n",
       "    <tr>\n",
       "      <th>6120438</th>\n",
       "      <td> 196578</td>\n",
       "      <td>  797488</td>\n",
       "      <td> 1</td>\n",
       "    </tr>\n",
       "    <tr>\n",
       "      <th>6120439</th>\n",
       "      <td> 196578</td>\n",
       "      <td>  616571</td>\n",
       "      <td> 1</td>\n",
       "    </tr>\n",
       "    <tr>\n",
       "      <th>6120440</th>\n",
       "      <td> 196578</td>\n",
       "      <td>  965051</td>\n",
       "      <td> 1</td>\n",
       "    </tr>\n",
       "    <tr>\n",
       "      <th>6120441</th>\n",
       "      <td> 196578</td>\n",
       "      <td>  906885</td>\n",
       "      <td> 1</td>\n",
       "    </tr>\n",
       "    <tr>\n",
       "      <th>6120442</th>\n",
       "      <td> 196578</td>\n",
       "      <td>  965121</td>\n",
       "      <td> 1</td>\n",
       "    </tr>\n",
       "    <tr>\n",
       "      <th>6120443</th>\n",
       "      <td> 196578</td>\n",
       "      <td> 1174322</td>\n",
       "      <td> 1</td>\n",
       "    </tr>\n",
       "  </tbody>\n",
       "</table>\n",
       "<p>6120444 rows × 3 columns</p>\n",
       "</div>"
      ],
      "text/plain": [
       "            uid      sid  rating\n",
       "0             0    22847       1\n",
       "1             0   420315       1\n",
       "2             0   316637       1\n",
       "3             0    16516       1\n",
       "4             0  5535878       1\n",
       "5             0    15372       1\n",
       "6             0    21714       1\n",
       "7             0   420315       1\n",
       "8             0   153505       1\n",
       "9             0   420315       1\n",
       "10            0    23261       1\n",
       "11            0    16907       1\n",
       "12            0    12973       1\n",
       "13            0   341255       1\n",
       "14            0   260957       1\n",
       "15            0  1933724       1\n",
       "16            0   105068       1\n",
       "17            0    34817       1\n",
       "18            0    27836       1\n",
       "19            0    15079       1\n",
       "20            0    15079       1\n",
       "21            0    22806       1\n",
       "22            0  1365909       1\n",
       "23            0    11844       1\n",
       "24            0    11742       1\n",
       "25            0    19822       1\n",
       "26            0    15169       1\n",
       "27            0    11794       1\n",
       "28            0  1567837       1\n",
       "29            0    35513       1\n",
       "...         ...      ...     ...\n",
       "6120414  196561  1109654       1\n",
       "6120415  196561  1176867       1\n",
       "6120416  196561  2312134       1\n",
       "6120417  196561   449112       1\n",
       "6120418  196561  2312134       1\n",
       "6120419  196578  1341442       1\n",
       "6120420  196578  1174322       1\n",
       "6120421  196578  1160482       1\n",
       "6120422  196578   594064       1\n",
       "6120423  196578   627093       1\n",
       "6120424  196578   899939       1\n",
       "6120425  196578   467635       1\n",
       "6120426  196578  1250178       1\n",
       "6120427  196578   797460       1\n",
       "6120428  196578   496521       1\n",
       "6120429  196578  1072999       1\n",
       "6120430  196578  1151842       1\n",
       "6120431  196578  1151847       1\n",
       "6120432  196578   635712       1\n",
       "6120433  196578   697962       1\n",
       "6120434  196578   594064       1\n",
       "6120435  196578   627093       1\n",
       "6120436  196578   899939       1\n",
       "6120437  196578   964995       1\n",
       "6120438  196578   797488       1\n",
       "6120439  196578   616571       1\n",
       "6120440  196578   965051       1\n",
       "6120441  196578   906885       1\n",
       "6120442  196578   965121       1\n",
       "6120443  196578  1174322       1\n",
       "\n",
       "[6120444 rows x 3 columns]"
      ]
     },
     "execution_count": 4,
     "metadata": {},
     "output_type": "execute_result"
    }
   ],
   "source": [
    "df"
   ]
  },
  {
   "cell_type": "code",
   "execution_count": 5,
   "metadata": {
    "collapsed": false
   },
   "outputs": [],
   "source": [
    "def get_count(df, id):\n",
    "    playcount_groupbyid = df[[id, 'rating']].groupby(id, as_index=False)\n",
    "    count = playcount_groupbyid.size()\n",
    "    return count\n",
    "\n",
    "def filter_triplets(df, min_sc=20):\n",
    "    # Only keep the triplets for songs which were listened to by at least min_sc users. \n",
    "    songcount = get_count(df, 'sid')\n",
    "    df = df[df['sid'].isin(songcount.index[songcount >= min_sc])]\n",
    "    \n",
    "    # Update both usercount and songcount after filtering\n",
    "    usercount, songcount = get_count(df, 'uid'), get_count(df, 'sid') \n",
    "    return df, usercount, songcount"
   ]
  },
  {
   "cell_type": "code",
   "execution_count": 6,
   "metadata": {
    "collapsed": true
   },
   "outputs": [],
   "source": [
    "df, usercount, songcount = filter_triplets(df)"
   ]
  },
  {
   "cell_type": "code",
   "execution_count": 7,
   "metadata": {
    "collapsed": false
   },
   "outputs": [
    {
     "name": "stdout",
     "output_type": "stream",
     "text": [
      "After filtering, there are 2318616 triplets from 57629 users and 47198 venues (sparsity level 0.085%)\n"
     ]
    }
   ],
   "source": [
    "sparsity_level = float(df.shape[0]) / (usercount.shape[0] * songcount.shape[0])\n",
    "print \"After filtering, there are %d triplets from %d users and %d venues (sparsity level %.3f%%)\" % (df.shape[0], \n",
    "                                                                                                      usercount.shape[0], \n",
    "                                                                                                      songcount.shape[0], \n",
    "                                                                                                      sparsity_level * 100)"
   ]
  },
  {
   "cell_type": "code",
   "execution_count": 8,
   "metadata": {
    "collapsed": true
   },
   "outputs": [],
   "source": [
    "unique_uid = sorted(pd.unique(df['uid']))\n",
    "unique_sid = sorted(pd.unique(df['sid']))"
   ]
  },
  {
   "cell_type": "code",
   "execution_count": 9,
   "metadata": {
    "collapsed": false
   },
   "outputs": [],
   "source": [
    "uid2idx = dict((uid, idx) for (idx, uid) in enumerate(unique_uid))\n",
    "sid2idx = dict((sid, idx) for (idx, sid) in enumerate(unique_sid))"
   ]
  },
  {
   "cell_type": "code",
   "execution_count": 10,
   "metadata": {
    "collapsed": false
   },
   "outputs": [],
   "source": [
    "with open(os.path.join(DATA_DIR, 'sid2idx.json'), 'w') as f:\n",
    "    json.dump(sid2idx, f)"
   ]
  },
  {
   "cell_type": "code",
   "execution_count": 11,
   "metadata": {
    "collapsed": false
   },
   "outputs": [],
   "source": [
    "with open(os.path.join(DATA_DIR, 'uid2idx.json'), 'w') as f:\n",
    "    json.dump(uid2idx, f)"
   ]
  },
  {
   "cell_type": "code",
   "execution_count": 12,
   "metadata": {
    "collapsed": true
   },
   "outputs": [],
   "source": [
    "with open(os.path.join(DATA_DIR, 'unique_uid.txt'), 'w') as f:\n",
    "    for uid in unique_uid:\n",
    "        f.write('%s\\n' % uid)"
   ]
  },
  {
   "cell_type": "code",
   "execution_count": 13,
   "metadata": {
    "collapsed": false
   },
   "outputs": [],
   "source": [
    "with open(os.path.join(DATA_DIR, 'unique_sid.txt'), 'w') as f:\n",
    "    for sid in unique_sid:\n",
    "        f.write('%s\\n' % sid)"
   ]
  },
  {
   "cell_type": "markdown",
   "metadata": {},
   "source": [
    "## Generate train/test/vad sets"
   ]
  },
  {
   "cell_type": "markdown",
   "metadata": {},
   "source": [
    "Pick out 20% of the checkins for heldout test"
   ]
  },
  {
   "cell_type": "code",
   "execution_count": 14,
   "metadata": {
    "collapsed": true
   },
   "outputs": [],
   "source": [
    "np.random.seed(12345)\n",
    "n_ratings = df.shape[0]\n",
    "test = np.random.choice(n_ratings, size=int(0.20 * n_ratings), replace=False)"
   ]
  },
  {
   "cell_type": "code",
   "execution_count": 15,
   "metadata": {
    "collapsed": false
   },
   "outputs": [],
   "source": [
    "test_idx = np.zeros(n_ratings, dtype=bool)\n",
    "test_idx[test] = True\n",
    "\n",
    "test_df = df[test_idx]\n",
    "train_df = df[~test_idx]"
   ]
  },
  {
   "cell_type": "markdown",
   "metadata": {},
   "source": [
    "Make sure there is no empty row/column in the training data"
   ]
  },
  {
   "cell_type": "code",
   "execution_count": 17,
   "metadata": {
    "collapsed": false
   },
   "outputs": [
    {
     "name": "stdout",
     "output_type": "stream",
     "text": [
      "There are total of 57095 unique users in the training set and 57629 unique users in the entire dataset\n"
     ]
    }
   ],
   "source": [
    "print \"There are total of %d unique users in the training set and %d unique users in the entire dataset\" % \\\n",
    "(len(pd.unique(train_df['uid'])), len(pd.unique(df['uid'])))"
   ]
  },
  {
   "cell_type": "code",
   "execution_count": 18,
   "metadata": {
    "collapsed": false
   },
   "outputs": [
    {
     "name": "stdout",
     "output_type": "stream",
     "text": [
      "There are total of 47198 unique items in the training set and 47198 unique items in the entire dataset\n"
     ]
    }
   ],
   "source": [
    "print \"There are total of %d unique items in the training set and %d unique items in the entire dataset\" % \\\n",
    "(len(pd.unique(train_df['sid'])), len(pd.unique(df['sid'])))"
   ]
  },
  {
   "cell_type": "markdown",
   "metadata": {},
   "source": [
    "We can see the some of the users do not have any checkins in the training set, so we move those users from test set"
   ]
  },
  {
   "cell_type": "code",
   "execution_count": 19,
   "metadata": {
    "collapsed": true
   },
   "outputs": [],
   "source": [
    "train_uid = set(pd.unique(train_df['uid']))"
   ]
  },
  {
   "cell_type": "code",
   "execution_count": 20,
   "metadata": {
    "collapsed": true
   },
   "outputs": [],
   "source": [
    "left_uid = list()\n",
    "for i, uid in enumerate(pd.unique(df['uid'])):\n",
    "    if uid not in train_uid:\n",
    "        left_uid.append(uid)"
   ]
  },
  {
   "cell_type": "code",
   "execution_count": 21,
   "metadata": {
    "collapsed": true
   },
   "outputs": [],
   "source": [
    "move_idx = test_df['uid'].isin(left_uid)"
   ]
  },
  {
   "cell_type": "code",
   "execution_count": 22,
   "metadata": {
    "collapsed": false
   },
   "outputs": [],
   "source": [
    "train_df = train_df.append(test_df[move_idx])\n",
    "test_df = test_df[~move_idx]"
   ]
  },
  {
   "cell_type": "code",
   "execution_count": 23,
   "metadata": {
    "collapsed": false
   },
   "outputs": [
    {
     "name": "stdout",
     "output_type": "stream",
     "text": [
      "There are total of 57629 unique users in the training set and 57629 unique users in the entire dataset\n"
     ]
    }
   ],
   "source": [
    "# make sure we are good\n",
    "print \"There are total of %d unique users in the training set and %d unique users in the entire dataset\" % \\\n",
    "(len(pd.unique(train_df['uid'])), len(pd.unique(df['uid'])))"
   ]
  },
  {
   "cell_type": "markdown",
   "metadata": {},
   "source": [
    "Pick out 10% of the training rating as validation set"
   ]
  },
  {
   "cell_type": "code",
   "execution_count": 24,
   "metadata": {
    "collapsed": true
   },
   "outputs": [],
   "source": [
    "np.random.seed(13579)\n",
    "n_ratings = train_df.shape[0]\n",
    "vad = np.random.choice(n_ratings, size=int(0.10 * n_ratings), replace=False)"
   ]
  },
  {
   "cell_type": "code",
   "execution_count": 25,
   "metadata": {
    "collapsed": true
   },
   "outputs": [],
   "source": [
    "vad_idx = np.zeros(n_ratings, dtype=bool)\n",
    "vad_idx[vad] = True\n",
    "\n",
    "vad_df = train_df[vad_idx]\n",
    "train_df = train_df[~vad_idx]"
   ]
  },
  {
   "cell_type": "markdown",
   "metadata": {},
   "source": [
    "Again make sure there is no empty row/column in the training data"
   ]
  },
  {
   "cell_type": "code",
   "execution_count": 26,
   "metadata": {
    "collapsed": false
   },
   "outputs": [
    {
     "name": "stdout",
     "output_type": "stream",
     "text": [
      "There are total of 57294 unique users in the training set and 57629 unique users in the entire dataset\n"
     ]
    }
   ],
   "source": [
    "print \"There are total of %d unique users in the training set and %d unique users in the entire dataset\" % \\\n",
    "(len(pd.unique(train_df['uid'])), len(pd.unique(df['uid'])))"
   ]
  },
  {
   "cell_type": "code",
   "execution_count": 27,
   "metadata": {
    "collapsed": false
   },
   "outputs": [
    {
     "name": "stdout",
     "output_type": "stream",
     "text": [
      "There are total of 47198 unique items in the training set and 47198 unique items in the entire dataset\n"
     ]
    }
   ],
   "source": [
    "print \"There are total of %d unique items in the training set and %d unique items in the entire dataset\" % \\\n",
    "(len(pd.unique(train_df['sid'])), len(pd.unique(df['sid'])))"
   ]
  },
  {
   "cell_type": "markdown",
   "metadata": {},
   "source": [
    "We can see the some of the users do not have any checkins in the training set, so we move those users from validation set"
   ]
  },
  {
   "cell_type": "code",
   "execution_count": 28,
   "metadata": {
    "collapsed": false
   },
   "outputs": [],
   "source": [
    "train_uid = set(pd.unique(train_df['uid']))"
   ]
  },
  {
   "cell_type": "code",
   "execution_count": 29,
   "metadata": {
    "collapsed": true
   },
   "outputs": [],
   "source": [
    "left_uid = list()\n",
    "for i, uid in enumerate(pd.unique(df['uid'])):\n",
    "    if uid not in train_uid:\n",
    "        left_uid.append(uid)"
   ]
  },
  {
   "cell_type": "code",
   "execution_count": 30,
   "metadata": {
    "collapsed": true
   },
   "outputs": [],
   "source": [
    "move_idx = vad_df['uid'].isin(left_uid)"
   ]
  },
  {
   "cell_type": "code",
   "execution_count": 31,
   "metadata": {
    "collapsed": true
   },
   "outputs": [],
   "source": [
    "train_df = train_df.append(vad_df[move_idx])\n",
    "vad_df = vad_df[~move_idx]"
   ]
  },
  {
   "cell_type": "code",
   "execution_count": 32,
   "metadata": {
    "collapsed": false
   },
   "outputs": [
    {
     "name": "stdout",
     "output_type": "stream",
     "text": [
      "(1670363, 3) (185185, 3)\n"
     ]
    }
   ],
   "source": [
    "print train_df.shape, vad_df.shape"
   ]
  },
  {
   "cell_type": "code",
   "execution_count": 33,
   "metadata": {
    "collapsed": false
   },
   "outputs": [
    {
     "name": "stdout",
     "output_type": "stream",
     "text": [
      "There are total of 57629 unique users in the training set and 57629 unique users in the entire dataset\n"
     ]
    }
   ],
   "source": [
    "# make sure we are good\n",
    "print \"There are total of %d unique users in the training set and %d unique users in the entire dataset\" % \\\n",
    "(len(pd.unique(train_df['uid'])), len(pd.unique(df['uid'])))"
   ]
  },
  {
   "cell_type": "markdown",
   "metadata": {},
   "source": [
    "## Numerize the data into (user_index, item_index, count) format"
   ]
  },
  {
   "cell_type": "code",
   "execution_count": 34,
   "metadata": {
    "collapsed": true
   },
   "outputs": [],
   "source": [
    "uid = map(lambda x: uid2idx[x], train_df['uid'])\n",
    "sid = map(lambda x: sid2idx[x], train_df['sid'])"
   ]
  },
  {
   "cell_type": "code",
   "execution_count": 35,
   "metadata": {
    "collapsed": true
   },
   "outputs": [],
   "source": [
    "train_df['uid'] = uid\n",
    "train_df['sid'] = sid"
   ]
  },
  {
   "cell_type": "code",
   "execution_count": 36,
   "metadata": {
    "collapsed": true
   },
   "outputs": [],
   "source": [
    "train_df.to_csv(os.path.join(DATA_DIR, 'train.num.csv'), index=False)"
   ]
  },
  {
   "cell_type": "code",
   "execution_count": 37,
   "metadata": {
    "collapsed": true
   },
   "outputs": [],
   "source": [
    "uid = map(lambda x: uid2idx[x], test_df['uid'])\n",
    "sid = map(lambda x: sid2idx[x], test_df['sid'])"
   ]
  },
  {
   "cell_type": "code",
   "execution_count": 38,
   "metadata": {
    "collapsed": false
   },
   "outputs": [],
   "source": [
    "test_df['uid'] = uid\n",
    "test_df['sid'] = sid"
   ]
  },
  {
   "cell_type": "code",
   "execution_count": 39,
   "metadata": {
    "collapsed": false
   },
   "outputs": [],
   "source": [
    "test_df.to_csv(os.path.join(DATA_DIR, 'test.num.csv'), index=False)"
   ]
  },
  {
   "cell_type": "code",
   "execution_count": 40,
   "metadata": {
    "collapsed": true
   },
   "outputs": [],
   "source": [
    "uid = map(lambda x: uid2idx[x], vad_df['uid'])\n",
    "sid = map(lambda x: sid2idx[x], vad_df['sid'])"
   ]
  },
  {
   "cell_type": "code",
   "execution_count": 41,
   "metadata": {
    "collapsed": true
   },
   "outputs": [],
   "source": [
    "vad_df['uid'] = uid\n",
    "vad_df['sid'] = sid"
   ]
  },
  {
   "cell_type": "code",
   "execution_count": 42,
   "metadata": {
    "collapsed": true
   },
   "outputs": [],
   "source": [
    "vad_df.to_csv(os.path.join(DATA_DIR, 'vad.num.csv'), index=False)"
   ]
  }
 ],
 "metadata": {
  "kernelspec": {
   "display_name": "Python 2",
   "language": "python",
   "name": "python2"
  },
  "language_info": {
   "codemirror_mode": {
    "name": "ipython",
    "version": 2
   },
   "file_extension": ".py",
   "mimetype": "text/x-python",
   "name": "python",
   "nbconvert_exporter": "python",
   "pygments_lexer": "ipython2",
   "version": "2.7.6"
  }
 },
 "nbformat": 4,
 "nbformat_minor": 0
}
